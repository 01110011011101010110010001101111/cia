{
 "cells": [
  {
   "cell_type": "markdown",
   "metadata": {},
   "source": [
    "# Attempt 1 (Quantization here, training in quantize_2)"
   ]
  },
  {
   "cell_type": "code",
   "execution_count": 81,
   "metadata": {},
   "outputs": [],
   "source": [
    "# Quantization code from Song Han's TinyML class\n",
    "import torch\n",
    "\n",
    "import matplotlib.pyplot as plt\n",
    "\n",
    "import numpy as np\n",
    "\n",
    "from PIL import Image"
   ]
  },
  {
   "cell_type": "code",
   "execution_count": 82,
   "metadata": {},
   "outputs": [],
   "source": [
    "def get_quantized_range(bitwidth):\n",
    "    quantized_max = (1 << (bitwidth - 1)) - 1\n",
    "    quantized_min = -(1 << (bitwidth - 1))\n",
    "    return quantized_min, quantized_max\n",
    "\n",
    "def get_quantization_scale_and_zero_point(fp_tensor, bitwidth):\n",
    "    \"\"\"\n",
    "    get quantization scale for single tensor\n",
    "    :param fp_tensor: [torch.(cuda.)Tensor] floating tensor to be quantized\n",
    "    :param bitwidth: [int] quantization bit width\n",
    "    :return:\n",
    "        [float] scale\n",
    "        [int] zero_point\n",
    "    \"\"\"\n",
    "    quantized_min, quantized_max = get_quantized_range(bitwidth)\n",
    "    fp_max = fp_tensor.max()\n",
    "    fp_min = fp_tensor.min()\n",
    "\n",
    "    # scale\n",
    "    scale = (fp_max - fp_min) / (quantized_max - quantized_min)\n",
    "    # zero_point\n",
    "    zero_point = ((quantized_min - fp_min / scale))\n",
    "\n",
    "    # clip the zero_point to fall in [quantized_min, quantized_max]\n",
    "    if zero_point < quantized_min:\n",
    "        zero_point = quantized_min\n",
    "    elif zero_point > quantized_max:\n",
    "        zero_point = quantized_max\n",
    "    else: # convert from float to int using round()\n",
    "        zero_point = round(zero_point)\n",
    "    return scale, int(zero_point)"
   ]
  },
  {
   "cell_type": "code",
   "execution_count": 83,
   "metadata": {},
   "outputs": [],
   "source": [
    "def linear_quantize(fp_tensor, bitwidth, scale, zero_point, dtype=np.int8) -> np.array:\n",
    "    \"\"\"\n",
    "    linear quantization for single fp_tensor\n",
    "      from\n",
    "        r = fp_tensor = (quantized_tensor - zero_point) * scale\n",
    "      we have,\n",
    "        q = quantized_tensor = int(round(fp_tensor / scale)) + zero_point\n",
    "    :param tensor: [np.array] floating tensor to be quantized\n",
    "    :param bitwidth: [int] quantization bit width\n",
    "    :param scale: [float] scaling factor\n",
    "    :param zero_point: [int] the desired centroid of tensor values\n",
    "    :return:\n",
    "        [np.array] quantized tensor whose values are integers\n",
    "    \"\"\"\n",
    "    # assert(fp_tensor is np.array)\n",
    "    assert(isinstance(scale, float))\n",
    "    assert(isinstance(zero_point, int))\n",
    "\n",
    "    # scale the fp_tensor\n",
    "    scaled_tensor = fp_tensor/scale\n",
    "    # round the floating value to integer value\n",
    "    rounded_tensor = (np.round(scaled_tensor)) #.to(torch.int8)\n",
    "\n",
    "    # print(rounded_tensor.dtype)\n",
    "\n",
    "    # shift the rounded_tensor to make zero_point 0\n",
    "    shifted_tensor = rounded_tensor + zero_point\n",
    "\n",
    "    # clamp the shifted_tensor to lie in bitwidth-bit range\n",
    "    quantized_min, quantized_max = get_quantized_range(bitwidth)\n",
    "    quantized_tensor = shifted_tensor.clip(quantized_min, quantized_max)\n",
    "    quantized_tensor = quantized_tensor.astype(np.int8)\n",
    "    return quantized_tensor"
   ]
  },
  {
   "cell_type": "code",
   "execution_count": 84,
   "metadata": {},
   "outputs": [],
   "source": [
    "def linear_quantize_feature(fp_tensor, bitwidth):\n",
    "    \"\"\"\n",
    "    linear quantization for feature tensor\n",
    "    :param fp_tensor: [torch.(cuda.)Tensor] floating feature to be quantized\n",
    "    :param bitwidth: [int] quantization bit width\n",
    "    :return:\n",
    "        [torch.(cuda.)Tensor] quantized tensor\n",
    "        [float] scale tensor\n",
    "        [int] zero point\n",
    "    \"\"\"\n",
    "    scale, zero_point = get_quantization_scale_and_zero_point(fp_tensor, bitwidth)\n",
    "    quantized_tensor = linear_quantize(fp_tensor, bitwidth, scale, zero_point)\n",
    "    return quantized_tensor, scale, zero_point"
   ]
  },
  {
   "cell_type": "code",
   "execution_count": 221,
   "metadata": {},
   "outputs": [
    {
     "name": "stdout",
     "output_type": "stream",
     "text": [
      "fc1.weight\n",
      "[[  0  -8   6 ...  -2 -14  13]\n",
      " [  1   5   4 ...   0 -12  11]\n",
      " [ -6   4  -5 ... -14  -1  -8]\n",
      " ...\n",
      " [  9  -3   5 ... -12   5  12]\n",
      " [  1  -9  -7 ...   6   5   4]\n",
      " [ -2  -2  -7 ...  -5   7  -2]]\n",
      "fc1.bias\n",
      "[ 108   32   89  -55   68   23   -4 -128   34  127]\n",
      "fc2.weight\n",
      "[[   8   16   22   85  -25  -10   37  -58   -3 -128]\n",
      " [  37  -63  -29  -87   -8   92  -72 -102  -57   49]\n",
      " [  12  -34  -32  -85  -84   38   74  -73  -91 -101]\n",
      " [  20   31   81  -18  -45  -79   58   -9  -20  -42]\n",
      " [  79  -26   57 -102    7  -87   70  -52   22  127]\n",
      " [  -2  -65  -86  -19  101  -79   21   48  -57  -17]\n",
      " [  46   -1   47  -23  111   21 -102  -49   54  -87]\n",
      " [   9   32   28  -88  -34   65   18   63   72   -1]\n",
      " [  46   55  -14   32  -49   30   61  -64   66  -20]\n",
      " [  90  -89  -15  -21   42  -44   60   67   29  -51]]\n",
      "fc2.bias\n",
      "[  76  127   35  -72  -35   45   12 -128   21   86]\n",
      "fc3.weight\n",
      "[[  36  -96   81   35  -30   27  -60   32  -30   56]\n",
      " [ -71   12  -47  -43  -38  -56    6   27  -59 -125]\n",
      " [  33   48   56  -82 -123  -42   43   -2   45   -6]\n",
      " [  62  -20  -45   14   27 -122   26   12   88  -25]\n",
      " [ -73  -27 -101  -47   20   44   97   23  -73   94]\n",
      " [  11  -97  -53   35   22   25  -38  -80   20   -5]\n",
      " [  20   37    2  -48  -60   60   22 -128  -68   -1]\n",
      " [ -82  101   81   11  127  -28  -68    0    2   23]\n",
      " [ -42  -62  -77  -59  -61  -18 -117   -9  -39   -3]\n",
      " [ -87   19  -57  -81   72   45  -55   -1   25  -16]]\n",
      "fc3.bias\n",
      "[  -2  -30  -89  -26  -57  -43  -76  127 -128   32]\n"
     ]
    }
   ],
   "source": [
    "checkpoint = torch.load(\"./NN/MNIST_3.pt\")\n",
    "\n",
    "weights_biases = {}\n",
    "\n",
    "for name, param in checkpoint.items():\n",
    "    weights_biases[name] = param.cpu().numpy()  # Convert to numpy array and store\n",
    "\n",
    "int8_quant = {}\n",
    "\n",
    "for key in weights_biases:\n",
    "    print(key)\n",
    "    int8_quant[key] = linear_quantize_feature(weights_biases[key], 8)[0]\n",
    "    print(int8_quant[key])"
   ]
  },
  {
   "cell_type": "code",
   "execution_count": 222,
   "metadata": {},
   "outputs": [],
   "source": [
    "def run_nn(input):\n",
    "    layer1 = np.dot(weights_biases[\"fc1.weight\"], input) + weights_biases[\"fc1.bias\"]\n",
    "    layer2 = np.dot(weights_biases[\"fc2.weight\"], layer1) + weights_biases[\"fc2.bias\"]\n",
    "    return np.argmax(layer2)\n",
    "\n",
    "def run_quantized_nn(input):\n",
    "    layer1 = np.dot(int8_quant[\"fc1.weight\"], input) + int8_quant[\"fc1.bias\"]\n",
    "    layer2 = np.dot(int8_quant[\"fc2.weight\"], layer1) + int8_quant[\"fc2.bias\"]\n",
    "    return np.argmax(layer2)"
   ]
  },
  {
   "cell_type": "code",
   "execution_count": 223,
   "metadata": {},
   "outputs": [],
   "source": [
    "def convert_img_to_numpy_arr(fp):\n",
    "  img = Image.open(fp)\n",
    "\n",
    "  # Convert the image to grayscale\n",
    "  img = img.convert(\"L\")\n",
    "\n",
    "  pixel_values = np.array(img)\n",
    "\n",
    "  img_flattened = pixel_values.reshape(-1)\n",
    "\n",
    "  img_flattened = [0 if x > 127 else 1 for x in img_flattened]\n",
    "\n",
    "  return np.array(img_flattened)"
   ]
  },
  {
   "cell_type": "code",
   "execution_count": 224,
   "metadata": {},
   "outputs": [],
   "source": [
    "def display_image(img_flat):\n",
    "    for i in range(1):\n",
    "        flattened_tensor = img_flat  # Replace with your actual data\n",
    "\n",
    "        # Reshape to 28 x 28\n",
    "        image_tensor = flattened_tensor.reshape(28, 28)  # or .reshape(28, 28)\n",
    "\n",
    "        # Plot the image\n",
    "        plt.imshow(image_tensor, cmap=\"gray\")\n",
    "        plt.colorbar()  # Optional: to show the color scale\n",
    "        plt.show()"
   ]
  },
  {
   "cell_type": "code",
   "execution_count": 225,
   "metadata": {},
   "outputs": [
    {
     "data": {
      "image/png": "[encoded data removed]",
      "text/plain": [
       "<Figure size 432x288 with 2 Axes>"
      ]
     },
     "metadata": {
      "needs_background": "light"
     },
     "output_type": "display_data"
    },
    {
     "name": "stdout",
     "output_type": "stream",
     "text": [
      "1\n"
     ]
    },
    {
     "data": {
      "text/plain": [
       "1"
      ]
     },
     "execution_count": 225,
     "metadata": {},
     "output_type": "execute_result"
    }
   ],
   "source": [
    "fp = \"./images/9.png\"\n",
    "\n",
    "flat_image = convert_img_to_numpy_arr(fp)\n",
    "display_image(flat_image)\n",
    "print(run_nn(flat_image))\n",
    "run_quantized_nn(flat_image)"
   ]
  },
  {
   "cell_type": "code",
   "execution_count": 237,
   "metadata": {},
   "outputs": [],
   "source": [
    "import torch\n",
    "import torch.nn as nn\n",
    "import torch.optim as optim\n",
    "import torch.quantization\n",
    "from torchvision import datasets, transforms\n",
    "from torch.utils.data import DataLoader\n",
    "import matplotlib.pyplot as plt\n",
    "\n",
    "transform = transforms.Compose([\n",
    "    transforms.ToTensor(),\n",
    "    transforms.Normalize((0.1307,), (0.3081,)),  # Normalize to standard MNIST mean and std\n",
    "    transforms.Lambda(lambda x: torch.where(x > 0.5, torch.tensor(1.0), torch.tensor(0.0))),\n",
    "    transforms.Lambda(lambda x: x.view(-1))\n",
    "])\n",
    "\n",
    "# Download and load the MNIST dataset\n",
    "test_dataset = datasets.MNIST(root='../data', train=True, transform=transform)\n",
    "test_loader = DataLoader(test_dataset, batch_size=64, shuffle=False)"
   ]
  },
  {
   "cell_type": "code",
   "execution_count": 244,
   "metadata": {},
   "outputs": [
    {
     "data": {
      "image/png": "[encoded data removed]",
      "text/plain": [
       "<Figure size 432x288 with 2 Axes>"
      ]
     },
     "metadata": {
      "needs_background": "light"
     },
     "output_type": "display_data"
    },
    {
     "name": "stdout",
     "output_type": "stream",
     "text": [
      "1\n"
     ]
    },
    {
     "data": {
      "text/plain": [
       "1"
      ]
     },
     "execution_count": 244,
     "metadata": {},
     "output_type": "execute_result"
    }
   ],
   "source": [
    "img = test_dataset[6][0]\n",
    "display_image(img)\n",
    "print(run_nn(img))\n",
    "run_quantized_nn(img)"
   ]
  },
  {
   "cell_type": "code",
   "execution_count": null,
   "metadata": {},
   "outputs": [],
   "source": []
  },
  {
   "cell_type": "code",
   "execution_count": null,
   "metadata": {},
   "outputs": [],
   "source": [
    "# Attempt 2"
   ]
  },
  {
   "cell_type": "code",
   "execution_count": null,
   "metadata": {},
   "outputs": [],
   "source": [
    "class Net(nn.Module):\n",
    "    def __init__(self):\n",
    "        super(Net, self).__init__()\n",
    "        self.fc1 = nn.Linear(784, 10)\n",
    "        self.fc2 = nn.Linear(10, 10)\n",
    "\n",
    "    def forward(self, x):\n",
    "        x = self.fc1(x)\n",
    "        x = self.fc2(x)\n",
    "        return output"
   ]
  },
  {
   "cell_type": "code",
   "execution_count": null,
   "metadata": {},
   "outputs": [],
   "source": []
  }
 ],
 "metadata": {
  "kernelspec": {
   "display_name": "base",
   "language": "python",
   "name": "python3"
  },
  "language_info": {
   "codemirror_mode": {
    "name": "ipython",
    "version": 3
   },
   "file_extension": ".py",
   "mimetype": "text/x-python",
   "name": "python",
   "nbconvert_exporter": "python",
   "pygments_lexer": "ipython3",
   "version": "3.9.7"
  }
 },
 "nbformat": 4,
 "nbformat_minor": 2
}
